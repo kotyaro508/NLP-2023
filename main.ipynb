{
  "nbformat": 4,
  "nbformat_minor": 0,
  "metadata": {
    "colab": {
      "provenance": []
    },
    "kernelspec": {
      "name": "python3",
      "display_name": "Python 3"
    },
    "language_info": {
      "name": "python"
    }
  },
  "cells": [
    {
      "cell_type": "code",
      "source": [
        "!pip install topmine"
      ],
      "metadata": {
        "id": "9fYzufZ_3XDF"
      },
      "execution_count": null,
      "outputs": []
    },
    {
      "cell_type": "code",
      "source": [
        "!python -m spacy download en_core_web_sm"
      ],
      "metadata": {
        "id": "UYf0Gysy3UNj"
      },
      "execution_count": null,
      "outputs": []
    },
    {
      "cell_type": "code",
      "source": [
        "from topmine.phrase_mining import PhraseMining\n",
        "from topmine.phrase_lda import PhraseLDA\n",
        "from pathlib import Path\n",
        "import time\n",
        "import json\n",
        "import spacy"
      ],
      "metadata": {
        "id": "_82ODrYytijy"
      },
      "execution_count": 7,
      "outputs": []
    },
    {
      "cell_type": "markdown",
      "source": [
        "### Data preprocessing"
      ],
      "metadata": {
        "id": "I68f8larjpJp"
      }
    },
    {
      "cell_type": "code",
      "source": [
        "in_path = 'Data/Stems'\n",
        "doc_list = []\n",
        "doc_names = []\n",
        "\n",
        "for folder in Path(in_path).iterdir():\n",
        "    num = folder.stem\n",
        "    folder_path = Path(in_path + '/' + num)\n",
        "\n",
        "    for item in Path(folder_path).iterdir():\n",
        "        doc_names.append(item.name[:-4])\n",
        "        with open(item, 'r', errors=\"ignore\") as fin:\n",
        "            text = fin.readline()\n",
        "            doc_list.append(text)"
      ],
      "metadata": {
        "id": "XvceDgnf3SR6"
      },
      "execution_count": null,
      "outputs": []
    },
    {
      "cell_type": "markdown",
      "source": [
        "### PhraseMining"
      ],
      "metadata": {
        "id": "drXumEsBj2Ol"
      }
    },
    {
      "cell_type": "code",
      "source": [
        "a = PhraseMining(doc_list, max_phrase_size=4)\n",
        "start = time.time()\n",
        "partitioned_docs, index_vocab = a.mine()\n",
        "stop = time.time()\n",
        "print(stop - start)"
      ],
      "metadata": {
        "id": "55vs324bPu-b"
      },
      "execution_count": null,
      "outputs": []
    },
    {
      "cell_type": "markdown",
      "source": [
        "### PhraseLDA"
      ],
      "metadata": {
        "id": "sCECmAclj5_I"
      }
    },
    {
      "cell_type": "code",
      "source": [
        "model = PhraseLDA(partitioned_docs=partitioned_docs, index_vocab=index_vocab, num_topics=20, iterations=100, optimization_iterations=10)\n",
        "\n",
        "start = time.time()\n",
        "lda = model.run()\n",
        "stop = time.time()\n",
        "\n",
        "print(stop - start)"
      ],
      "metadata": {
        "id": "lb56YQOt3MVa"
      },
      "execution_count": null,
      "outputs": []
    },
    {
      "cell_type": "markdown",
      "source": [
        "### Getting a list of topic phrases"
      ],
      "metadata": {
        "id": "fKsfLCBakHP7"
      }
    },
    {
      "cell_type": "markdown",
      "source": [
        "#### Getting document topics"
      ],
      "metadata": {
        "id": "1jwRbD4jkVU8"
      }
    },
    {
      "cell_type": "code",
      "source": [
        "doc_phrase_topics = lda[0]"
      ],
      "metadata": {
        "id": "tnzke_7btH_Z"
      },
      "execution_count": 11,
      "outputs": []
    },
    {
      "cell_type": "code",
      "source": [
        "topics = []\n",
        "for doc_topic_counts in model.__dict__['n_d_t_phrases']:\n",
        "    max_count = max(doc_topic_counts)\n",
        "    topics.append(doc_topic_counts.index(max_count))"
      ],
      "metadata": {
        "id": "4VbGDF37q0Pw"
      },
      "execution_count": 12,
      "outputs": []
    },
    {
      "cell_type": "markdown",
      "source": [
        "#### Getting the final results"
      ],
      "metadata": {
        "id": "ZLKUuutakkyd"
      }
    },
    {
      "cell_type": "code",
      "source": [
        "doc_phrases = []\n",
        "nlp = spacy.load('en_core_web_sm')\n",
        "\n",
        "for doc_id in range(len(doc_list)):\n",
        "    doc_phrases.append([])\n",
        "    for phrase_id in range(len(doc_phrase_topics[doc_id])):\n",
        "        if len(partitioned_docs[doc_id][phrase_id]) == 1 and doc_phrase_topics[doc_id][phrase_id] == topics[doc_id]:\n",
        "            phrase_index = partitioned_docs[doc_id][phrase_id][0]\n",
        "            phrase = nlp(index_vocab[phrase_index])[0].lemma_\n",
        "            doc_phrases[doc_id].append(phrase)\n",
        "    doc_phrases[doc_id].sort()"
      ],
      "metadata": {
        "id": "sKjNeWju3Ab2"
      },
      "execution_count": null,
      "outputs": []
    },
    {
      "cell_type": "markdown",
      "source": [
        "### Calculating metrics"
      ],
      "metadata": {
        "id": "qDA1c4wcnImI"
      }
    },
    {
      "cell_type": "code",
      "source": [
        "answers = None\n",
        "\n",
        "with open(\"Data/Answers.json\", 'r') as f:\n",
        "    answers = json.load(f)"
      ],
      "metadata": {
        "id": "DPVbEV6kymF3"
      },
      "execution_count": 33,
      "outputs": []
    },
    {
      "cell_type": "code",
      "source": [
        "N = len(doc_phrases)\n",
        "\n",
        "accuracy = 0.0\n",
        "precision = 0.0\n",
        "recall = 0.0\n",
        "\n",
        "for i in range(N):\n",
        "    doc_name = doc_names[i][:8]\n",
        "    TP, FN = 0, 0\n",
        "    for word in answers[doc_name]:\n",
        "        if word in doc_names[i]:\n",
        "            TP += 1\n",
        "        else:\n",
        "            FN += 1\n",
        "    FP = len(doc_names[i]) - TP\n",
        "    precision += TP / (TP + FP)\n",
        "    recall += TP / (TP + FN)\n",
        "\n",
        "precision /= N\n",
        "recall /= N\n",
        "F1_score = 2 * precision * recall / (precision + recall)"
      ],
      "metadata": {
        "id": "l0G0biZd-04c"
      },
      "execution_count": null,
      "outputs": []
    }
  ]
}